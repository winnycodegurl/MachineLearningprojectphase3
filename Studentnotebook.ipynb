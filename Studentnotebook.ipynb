{
 "cells": [
  {
   "cell_type": "markdown",
   "metadata": {},
   "source": [
    "# Phase  3  project - Machine Learning!"
   ]
  },
  {
   "cell_type": "markdown",
   "metadata": {},
   "source": [
    "Name:  Winfred Kinya Bundi.\n",
    "\n",
    "\n",
    "Student pace:  Full time Hybrid.\n",
    "\n",
    "\n",
    "Scheduled project review date/time: 07/06/2024.\n",
    "\n",
    "\n",
    "Instructor name: Mwikali Maryanne.\n",
    "\n",
    "\n",
    "Blog post URL: git@github.com:winnycodegurl/MachineLearningprojectphase3.git\n",
    "\n"
   ]
  },
  {
   "cell_type": "markdown",
   "metadata": {},
   "source": [
    "# INTRODUCTION."
   ]
  },
  {
   "cell_type": "markdown",
   "metadata": {},
   "source": [
    "Telecommunication companies face significant challenges in reducing customer churn, which can lead to substantial revenue losses. Customer churn occurs when customers discontinue their services, and understanding the factors that contribute to this behavior is crucial for maintaining profitability and growth. This project aims to analyze customer data to identify predictable patterns in customer churn. By developing predictive models and segmenting customers based on their behavior, the goal is to provide actionable insights that optimize service quality, enhance customer satisfaction, and improve operational efficiency. These insights will help telecom companies make strategic decisions to drive performance improvements and foster customer loyalty.\n",
    "\n",
    "\n",
    "\n",
    "\n",
    "\n",
    "\n"
   ]
  },
  {
   "cell_type": "markdown",
   "metadata": {},
   "source": [
    "# BUSINESS UNDERSTANDING\n",
    "The provided dataset encompasses details on account length, usage patterns (day, evening, and night minutes), service plans (international and voicemail), and customer interactions (such as customer service calls).Understanding the factors that contribute to churn can help telecommunication companies devise strategies to retain customers and reduce revenue loss.Key study factors include:\n",
    "\n",
    "1.Account Length: Understanding the duration of customer accounts can help identify patterns where customers are more likely to churn. For example, if churn is more prevalent among newer customers, the company might need to improve onboarding processes or initial customer support.\n",
    "\n",
    "2.Usage Patterns: Analyzing total day, evening, and night minutes can reveal insights into how customer usage correlates with churn. Customers with low usage might be dissatisfied with service quality or pricing and could be more prone to churn. Tailoring services or offering usage-based incentives might help retain these customers.\n",
    "\n",
    "3.Service Plans: The presence of international and voicemail plans can provide insights into customer preferences and needs. Customers with specific service plans might have different churn behaviors. For example, those without international plans might churn if they find better offers elsewhere. Understanding these patterns can help in customizing service plans to better meet customer needs.\n",
    "\n",
    "4.Customer Interactions: Customer service calls are a critical indicator of customer satisfaction. A high number of customer service interactions might indicate unresolved issues or dissatisfaction, leading to churn. By analyzing the nature and frequency of these calls, companies can identify common problems and address them proactively.\n",
    "\n",
    "\n",
    "Telecommunications companies can develop targeted interventions to improve customer retention. Proactive measures might include personalized communication, tailored service plans, better customer support, and special incentives for at-risk customers"
   ]
  },
  {
   "cell_type": "markdown",
   "metadata": {},
   "source": [
    "# PROBLEM STATEMENT.\n",
    "\n",
    "Lecom Limited, a medium-sized telecommunication company, strives to become the top-performing company in its state.This project aims to analyze Lecom Limited's customer data to identify predictable patterns in customer churn. By developing predictive models and segmenting customers based on their behavior, we will provide actionable insights to optimize service quality, enhance customer satisfaction, and improve operational efficiency. The ultimate objective is to help Lecom Limited make strategic decisions that drive performance improvements and foster customer loyalty.\n",
    "The primary stakeholders are the company's executive team, customer service managers, and operations management. Secondary stakeholders include marketing and product development teams interested in enhancing customer satisfaction and loyalty."
   ]
  },
  {
   "cell_type": "markdown",
   "metadata": {},
   "source": [
    "# OBJECTIVES.\n",
    "1.Identify the key indicators of customer churn using the given data.\n",
    "\n",
    "2.Analyze the factors leading to frequent customer service calls and provide recommendations to reduce call volumes and improve service efficiency.\n",
    "\n",
    "3.Segment customers based on their service usage patterns, satisfaction levels, and likelihood of churn to target specific interventions.\n",
    "\n",
    "4.Develop predictive models to forecast customer churn, frequent customer service calls, and overall customer satisfaction.Evaluate the models to check on the best performing model using variious metrics such as accuary,ROC and AUC curves.\n",
    "\n",
    "5.Provide Actionable Recommendations to business stakeholders.\n"
   ]
  },
  {
   "cell_type": "markdown",
   "metadata": {},
   "source": [
    "# DATA UNDERSTANDING\n",
    "The dataset consists of telecommunications customer data across various attributes:\n",
    "\n",
    "state: The state where the customer is located.\n",
    "\n",
    "account length: The duration (in days) that the customer has been with the service.\n",
    "\n",
    "area code: The area code of the customer's phone number.\n",
    "\n",
    "phone number: The customer's phone number.\n",
    "\n",
    "international plan: Whether the customer has an international calling plan (yes/no).\n",
    "\n",
    "voice mail plan: Whether the customer has a voice mail plan (yes/no).\n",
    "\n",
    "number vmail messages: The number of voice mail messages the customer has.\n",
    "\n",
    "total day minutes: The total number of minutes the customer has used during the day.\n",
    "\n",
    "total day calls: The total number of calls the customer has made during the day.\n",
    "\n",
    "total day charge: The total charge for the day minutes.\n",
    "\n",
    "total eve minutes: The total number of minutes the customer has used in the evening.\n",
    "\n",
    "total eve calls: The total number of calls the customer has made in the evening.\n",
    "\n",
    "total eve charge: The total charge for the evening minutes.\n",
    "\n",
    "total night minutes: The total number of minutes the customer has used at night.\n",
    "\n",
    "total night calls: The total number of calls the customer has made at night.\n",
    "\n",
    "total night charge: The total charge for the night minutes.\n",
    "\n",
    "total intl minutes: The total number of international minutes the customer has used.\n",
    "\n",
    "total intl calls: The total number of international calls the customer has made.\n",
    "\n",
    "total intl charge: The total charge for the international minutes.\n",
    "\n",
    "customer service calls: The number of calls the customer has made to customer service.\n",
    "\n",
    "churn: Whether the customer has churned (TRUE/FALSE)."
   ]
  }
 ],
 "metadata": {
  "language_info": {
   "name": "python"
  }
 },
 "nbformat": 4,
 "nbformat_minor": 2
}
