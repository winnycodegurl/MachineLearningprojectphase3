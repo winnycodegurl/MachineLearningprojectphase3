{
 "cells": [
  {
   "cell_type": "markdown",
   "metadata": {},
   "source": [
    "# Phase  3  project - Machine Learning!"
   ]
  },
  {
   "cell_type": "markdown",
   "metadata": {},
   "source": [
    "Name:  Winfred Kinya Bundi.\n",
    "\n",
    "\n",
    "Student pace:  Full time Hybrid.\n",
    "\n",
    "\n",
    "Scheduled project review date/time: 07/06/2024.\n",
    "\n",
    "\n",
    "Instructor name: Mwikali Maryanne.\n",
    "\n",
    "\n",
    "Blog post URL: git@github.com:winnycodegurl/MachineLearningprojectphase3.git\n",
    "\n"
   ]
  },
  {
   "cell_type": "markdown",
   "metadata": {},
   "source": [
    "# INTRODUCTION."
   ]
  },
  {
   "cell_type": "markdown",
   "metadata": {},
   "source": [
    "Telecommunication companies face significant challenges in reducing customer churn, which can lead to substantial revenue losses. Customer churn occurs when customers discontinue their services, and understanding the factors that contribute to this behavior is crucial for maintaining profitability and growth. This project aims to analyze customer data to identify predictable patterns in customer churn. By developing predictive models and segmenting customers based on their behavior, the goal is to provide actionable insights that optimize service quality, enhance customer satisfaction, and improve operational efficiency. These insights will help telecom companies make strategic decisions to drive performance improvements and foster customer loyalty.\n",
    "\n",
    "\n",
    "\n",
    "\n",
    "\n",
    "\n"
   ]
  },
  {
   "cell_type": "markdown",
   "metadata": {},
   "source": [
    "# BUSINESS UNDERSTANDING\n",
    "Understanding the factors that contribute to churn can help telecommunication  companies stakeholders'  devise strategies to retain customers and reduce revenue loss.The primary stakeholders are the company's executive team, customer service managers, and operations management. Secondary stakeholders include marketing and product development teams interested in enhancing customer satisfaction and loyalty.Key study factors include:\n",
    "\n",
    "1.Account Length: Understanding the duration of customer accounts can help identify patterns where customers are more likely to churn. For example, if churn is more prevalent among newer customers, the company might need to improve onboarding processes or initial customer support.\n",
    "\n",
    "2.Usage Patterns: Analyzing total day, evening, and night minutes can reveal insights into how customer usage correlates with churn. Customers with low usage might be dissatisfied with service quality or pricing and could be more prone to churn. Tailoring services or offering usage-based incentives might help retain these customers.\n",
    "\n",
    "3.Service Plans: The presence of international and voicemail plans can provide insights into customer preferences and needs. Customers with specific service plans might have different churn behaviors. For example, those without international plans might churn if they find better offers elsewhere. Understanding these patterns can help in customizing service plans to better meet customer needs.\n",
    "\n",
    "4.Customer Interactions: Customer service calls are a critical indicator of customer satisfaction. A high number of customer service interactions might indicate unresolved issues or dissatisfaction, leading to churn. By analyzing the nature and frequency of these calls, companies can identify common problems and address them proactively.\n",
    "\n",
    "\n",
    "Telecommunications companies can develop targeted interventions to improve customer retention. Proactive measures might include personalized communication, tailored service plans, better customer support, and special incentives for at-risk customers"
   ]
  },
  {
   "cell_type": "markdown",
   "metadata": {},
   "source": [
    "# PROBLEM STATEMENT.\n",
    "\n",
    "Lecom Limited, a medium-sized telecommunication company, strives to become the top-performing company in its state.This project aims to analyze Lecom Limited's customer data to identify predictable patterns in customer churn. By developing predictive models and segmenting customers based on their behavior, we will provide actionable insights to optimize service quality, enhance customer satisfaction, and improve operational efficiency. The ultimate objective is to help Lecom Limited make strategic decisions that drive performance improvements and foster customer loyalty.\n"
   ]
  },
  {
   "cell_type": "markdown",
   "metadata": {},
   "source": [
    "# OBJECTIVES.\n",
    "1.Identify the key indicators of customer churn using the given data.\n",
    "\n",
    "2.Analyze the factors leading to frequent customer service calls and provide recommendations to reduce call volumes and improve service efficiency.\n",
    "\n",
    "3.Segment customers based on their service usage patterns, satisfaction levels, and likelihood of churn to target specific interventions.\n",
    "\n",
    "4.Develop predictive models to forecast customer churn, frequent customer service calls, and overall customer satisfaction.Evaluate the models to check on the best performing model using variious metrics such as accuary,ROC and AUC curves.\n",
    "\n",
    "5.Provide Actionable Recommendations to business stakeholders.\n"
   ]
  },
  {
   "cell_type": "markdown",
   "metadata": {},
   "source": [
    "# DATA UNDERSTANDING\n",
    "The dataset consists of telecommunications customer data across various attributes:\n",
    "\n",
    "state: The state where the customer is located.\n",
    "\n",
    "account length: The duration (in days) that the customer has been with the service.\n",
    "\n",
    "area code: The area code of the customer's phone number.\n",
    "\n",
    "phone number: The customer's phone number.\n",
    "\n",
    "international plan: Whether the customer has an international calling plan (yes/no).\n",
    "\n",
    "voice mail plan: Whether the customer has a voice mail plan (yes/no).\n",
    "\n",
    "number vmail messages: The number of voice mail messages the customer has.\n",
    "\n",
    "total day minutes: The total number of minutes the customer has used during the day.\n",
    "\n",
    "total day calls: The total number of calls the customer has made during the day.\n",
    "\n",
    "total day charge: The total charge for the day minutes.\n",
    "\n",
    "total eve minutes: The total number of minutes the customer has used in the evening.\n",
    "\n",
    "total eve calls: The total number of calls the customer has made in the evening.\n",
    "\n",
    "total eve charge: The total charge for the evening minutes.\n",
    "\n",
    "total night minutes: The total number of minutes the customer has used at night.\n",
    "\n",
    "total night calls: The total number of calls the customer has made at night.\n",
    "\n",
    "total night charge: The total charge for the night minutes.\n",
    "\n",
    "total intl minutes: The total number of international minutes the customer has used.\n",
    "\n",
    "total intl calls: The total number of international calls the customer has made.\n",
    "\n",
    "total intl charge: The total charge for the international minutes.\n",
    "\n",
    "customer service calls: The number of calls the customer has made to customer service.\n",
    "\n",
    "churn: Whether the customer has churned (TRUE/FALSE)."
   ]
  },
  {
   "cell_type": "markdown",
   "metadata": {},
   "source": [
    "TABLE OF CONTENTS\n",
    "\n",
    "\n",
    "1.Data Preparation\n",
    "\n",
    "2.Data cleaning\n",
    "\n",
    "3.Exploratory data analysis\n",
    "\n",
    "4.Statistical Analysis\n",
    "\n",
    "5.Modelling\n",
    "\n",
    "6.Evaluation\n",
    "\n",
    "7.Conclusion\n",
    "\n",
    "8.Reccomendations"
   ]
  },
  {
   "cell_type": "markdown",
   "metadata": {},
   "source": [
    "# 1. DATA PREPARATION"
   ]
  },
  {
   "cell_type": "code",
   "execution_count": 29,
   "metadata": {},
   "outputs": [],
   "source": [
    "import numpy as np\n",
    "import pandas as pd\n",
    "import matplotlib.pyplot as plt\n",
    "import seaborn as sns\n",
    "%matplotlib inline\n",
    "from sklearn.preprocessing import LabelEncoder\n",
    "from sklearn.model_selection import train_test_split\n",
    "import warnings\n",
    "warnings.filterwarnings('ignore')\n",
    "from sklearn.model_selection import StratifiedKFold\n",
    "kFold = StratifiedKFold(n_splits=5)\n",
    "from sklearn.linear_model import Lasso, Ridge\n",
    "from sklearn.model_selection import GridSearchCV\n",
    "from sklearn.preprocessing import StandardScaler\n",
    "from  sklearn.metrics  import  accuracy_score , precision_score , recall_score,confusion_matrix,classification_report\n",
    "from sklearn.preprocessing import  MinMaxScaler\n",
    "from sklearn.linear_model import LogisticRegression\n",
    "from sklearn.ensemble import RandomForestRegressor, GradientBoostingRegressor\n",
    "from sklearn.neighbors import KNeighborsRegressor\n",
    "from sklearn.model_selection import RandomizedSearchCV, GridSearchCV\n",
    "from sklearn.metrics import classification_report,ConfusionMatrixDisplay\n",
    "from sklearn.metrics import mean_squared_error\n",
    "from sklearn.model_selection import cross_val_score\n",
    "from sklearn.model_selection import cross_validate\n",
    "from sklearn.feature_selection import (VarianceThreshold, SelectKBest, f_regression, mutual_info_regression, \n",
    "    RFE, RFECV)\n",
    "from sklearn.preprocessing import OneHotEncoder\n",
    "from imblearn.over_sampling import SMOTE\n",
    "from sklearn.tree import DecisionTreeClassifier \n",
    "from sklearn import tree\n",
    "from math import log2\n",
    "from sklearn.pipeline import Pipeline\n",
    "from pandas.api.types import is_numeric_dtype\n",
    "\n",
    "\n",
    "\n",
    "\n"
   ]
  },
  {
   "cell_type": "code",
   "execution_count": 46,
   "metadata": {},
   "outputs": [],
   "source": [
    "# Load the dataset to inspect the initial state of the data\n",
    "import pandas as pd\n",
    "\n",
    "class churmdata:\n",
    "    def __init__(self, file_path):\n",
    "        self.file_path = file_path\n",
    "        self.data = None\n",
    "    \n",
    "    def load_data(self):\n",
    "        self.data = pd.read_csv(self.file_path)\n",
    "    \n",
    "    def display_info(self):\n",
    "        self.data.info()\n",
    "\n",
    "    \n",
    "    def display_head(self,n=5):\n",
    "        self.data.head\n",
    "        print(self.data.head(n))\n",
    "    \n",
    "\n",
    "    def display_statistics(self):\n",
    "        self.data.describe()\n",
    "        print(self.data.describe())\n",
    "\n",
    "    def check_missing_data(self):\n",
    "        \n",
    "        if self.data is not None:\n",
    "            print(\"Missing Data Check:\")\n",
    "            missing_data = self.data.isnull().sum()\n",
    "            print(missing_data[missing_data > 0])\n",
    "        else:\n",
    "            print(\"No missing data\") \n",
    "\n",
    "    def check_duplicates(self):\n",
    "        \n",
    "        if self.data is not None:\n",
    "            print(\"Duplicate Rows Check:\")\n",
    "            duplicates = self.data.duplicated().sum()\n",
    "            print(f\"Number of duplicate rows: {duplicates}\")\n",
    "        else:\n",
    "            print(\"No duplicate rows\")\n",
    "             \n",
    "    def display_statistics(self, summary_columns):\n",
    "        \"\"\"Displays statistics of the specified columns in the dataset.\"\"\"\n",
    "        if self.data is not None:\n",
    "            if all(column in self.data.columns for column in summary_columns):\n",
    "                print(\"Statistical Summary for specified columns:\")\n",
    "                print(self.data[summary_columns].describe())\n",
    "            else:\n",
    "                missing_columns = [column for column in summary_columns if column not in self.data.columns]\n",
    "                print(f\"The following columns are not in the dataset: {missing_columns}\")\n",
    "        else:\n",
    "            print(\"Data not loaded. Please load the data first using the 'load_data' method.\")          \n",
    "\n",
    "summary_columns = ['account length','number vmail messages ','total day minutes ','total day calls ','total day charge','total eve minutes ','total eve calls','total eve charge','total night minutes','total night calls','total night charge','total intl minutes ','total intl calls','total intl charge','customer service calls']            \n",
    "\n",
    "file_path = 'Churmdata.csv'\n",
    "churm_data = churmdata(file_path)\n",
    "\n",
    "churm_data.load_data()\n"
   ]
  },
  {
   "cell_type": "code",
   "execution_count": 42,
   "metadata": {},
   "outputs": [
    {
     "name": "stdout",
     "output_type": "stream",
     "text": [
      "<class 'pandas.core.frame.DataFrame'>\n",
      "RangeIndex: 3333 entries, 0 to 3332\n",
      "Data columns (total 21 columns):\n",
      " #   Column                  Non-Null Count  Dtype  \n",
      "---  ------                  --------------  -----  \n",
      " 0   state                   3333 non-null   object \n",
      " 1   account length          3333 non-null   int64  \n",
      " 2   area code               3333 non-null   int64  \n",
      " 3   phone number            3333 non-null   object \n",
      " 4   international plan      3333 non-null   object \n",
      " 5   voice mail plan         3333 non-null   object \n",
      " 6   number vmail messages   3333 non-null   int64  \n",
      " 7   total day minutes       3333 non-null   float64\n",
      " 8   total day calls         3333 non-null   int64  \n",
      " 9   total day charge        3333 non-null   float64\n",
      " 10  total eve minutes       3333 non-null   float64\n",
      " 11  total eve calls         3333 non-null   int64  \n",
      " 12  total eve charge        3333 non-null   float64\n",
      " 13  total night minutes     3333 non-null   float64\n",
      " 14  total night calls       3333 non-null   int64  \n",
      " 15  total night charge      3333 non-null   float64\n",
      " 16  total intl minutes      3333 non-null   float64\n",
      " 17  total intl calls        3333 non-null   int64  \n",
      " 18  total intl charge       3333 non-null   float64\n",
      " 19  customer service calls  3333 non-null   int64  \n",
      " 20  churn                   3333 non-null   bool   \n",
      "dtypes: bool(1), float64(8), int64(8), object(4)\n",
      "memory usage: 524.2+ KB\n"
     ]
    }
   ],
   "source": [
    "churm_data.display_info()\n"
   ]
  },
  {
   "cell_type": "code",
   "execution_count": 43,
   "metadata": {},
   "outputs": [
    {
     "name": "stdout",
     "output_type": "stream",
     "text": [
      "  state  account length  area code phone number international plan  \\\n",
      "0    KS             128        415     382-4657                 no   \n",
      "1    OH             107        415     371-7191                 no   \n",
      "2    NJ             137        415     358-1921                 no   \n",
      "3    OH              84        408     375-9999                yes   \n",
      "4    OK              75        415     330-6626                yes   \n",
      "\n",
      "  voice mail plan  number vmail messages  total day minutes  total day calls  \\\n",
      "0             yes                     25              265.1              110   \n",
      "1             yes                     26              161.6              123   \n",
      "2              no                      0              243.4              114   \n",
      "3              no                      0              299.4               71   \n",
      "4              no                      0              166.7              113   \n",
      "\n",
      "   total day charge  ...  total eve calls  total eve charge  \\\n",
      "0             45.07  ...               99             16.78   \n",
      "1             27.47  ...              103             16.62   \n",
      "2             41.38  ...              110             10.30   \n",
      "3             50.90  ...               88              5.26   \n",
      "4             28.34  ...              122             12.61   \n",
      "\n",
      "   total night minutes  total night calls  total night charge  \\\n",
      "0                244.7                 91               11.01   \n",
      "1                254.4                103               11.45   \n",
      "2                162.6                104                7.32   \n",
      "3                196.9                 89                8.86   \n",
      "4                186.9                121                8.41   \n",
      "\n",
      "   total intl minutes  total intl calls  total intl charge  \\\n",
      "0                10.0                 3               2.70   \n",
      "1                13.7                 3               3.70   \n",
      "2                12.2                 5               3.29   \n",
      "3                 6.6                 7               1.78   \n",
      "4                10.1                 3               2.73   \n",
      "\n",
      "   customer service calls  churn  \n",
      "0                       1  False  \n",
      "1                       1  False  \n",
      "2                       0  False  \n",
      "3                       2  False  \n",
      "4                       3  False  \n",
      "\n",
      "[5 rows x 21 columns]\n"
     ]
    }
   ],
   "source": [
    "\n",
    "churm_data.display_head()"
   ]
  },
  {
   "cell_type": "code",
   "execution_count": 44,
   "metadata": {},
   "outputs": [
    {
     "name": "stdout",
     "output_type": "stream",
     "text": [
      "Missing Data Check:\n",
      "Series([], dtype: int64)\n"
     ]
    }
   ],
   "source": [
    "#checking for missing data and duplicate\n",
    "churm_data.check_missing_data()"
   ]
  },
  {
   "cell_type": "code",
   "execution_count": 45,
   "metadata": {},
   "outputs": [
    {
     "name": "stdout",
     "output_type": "stream",
     "text": [
      "Duplicate Rows Check:\n",
      "Number of duplicate rows: 0\n"
     ]
    }
   ],
   "source": [
    "\n",
    "churm_data.check_duplicates()"
   ]
  },
  {
   "cell_type": "code",
   "execution_count": 58,
   "metadata": {},
   "outputs": [
    {
     "name": "stdout",
     "output_type": "stream",
     "text": [
      "       account length    area code  number vmail messages  total day minutes  \\\n",
      "count     3333.000000  3333.000000            3333.000000        3333.000000   \n",
      "mean       101.064806   437.182418               8.099010         179.775098   \n",
      "std         39.822106    42.371290              13.688365          54.467389   \n",
      "min          1.000000   408.000000               0.000000           0.000000   \n",
      "25%         74.000000   408.000000               0.000000         143.700000   \n",
      "50%        101.000000   415.000000               0.000000         179.400000   \n",
      "75%        127.000000   510.000000              20.000000         216.400000   \n",
      "max        243.000000   510.000000              51.000000         350.800000   \n",
      "\n",
      "       total day calls  total day charge  total eve minutes  total eve calls  \\\n",
      "count      3333.000000       3333.000000        3333.000000      3333.000000   \n",
      "mean        100.435644         30.562307         200.980348       100.114311   \n",
      "std          20.069084          9.259435          50.713844        19.922625   \n",
      "min           0.000000          0.000000           0.000000         0.000000   \n",
      "25%          87.000000         24.430000         166.600000        87.000000   \n",
      "50%         101.000000         30.500000         201.400000       100.000000   \n",
      "75%         114.000000         36.790000         235.300000       114.000000   \n",
      "max         165.000000         59.640000         363.700000       170.000000   \n",
      "\n",
      "       total eve charge  total night minutes  total night calls  \\\n",
      "count       3333.000000          3333.000000        3333.000000   \n",
      "mean          17.083540           200.872037         100.107711   \n",
      "std            4.310668            50.573847          19.568609   \n",
      "min            0.000000            23.200000          33.000000   \n",
      "25%           14.160000           167.000000          87.000000   \n",
      "50%           17.120000           201.200000         100.000000   \n",
      "75%           20.000000           235.300000         113.000000   \n",
      "max           30.910000           395.000000         175.000000   \n",
      "\n",
      "       total night charge  total intl minutes  total intl calls  \\\n",
      "count         3333.000000         3333.000000       3333.000000   \n",
      "mean             9.039325           10.237294          4.479448   \n",
      "std              2.275873            2.791840          2.461214   \n",
      "min              1.040000            0.000000          0.000000   \n",
      "25%              7.520000            8.500000          3.000000   \n",
      "50%              9.050000           10.300000          4.000000   \n",
      "75%             10.590000           12.100000          6.000000   \n",
      "max             17.770000           20.000000         20.000000   \n",
      "\n",
      "       total intl charge  customer service calls  \n",
      "count        3333.000000             3333.000000  \n",
      "mean            2.764581                1.562856  \n",
      "std             0.753773                1.315491  \n",
      "min             0.000000                0.000000  \n",
      "25%             2.300000                1.000000  \n",
      "50%             2.780000                1.000000  \n",
      "75%             3.270000                2.000000  \n",
      "max             5.400000                9.000000  \n"
     ]
    }
   ],
   "source": [
    "churm_data.display_statistics()         "
   ]
  },
  {
   "cell_type": "code",
   "execution_count": null,
   "metadata": {},
   "outputs": [],
   "source": []
  }
 ],
 "metadata": {
  "kernelspec": {
   "display_name": "Python 3",
   "language": "python",
   "name": "python3"
  },
  "language_info": {
   "codemirror_mode": {
    "name": "ipython",
    "version": 3
   },
   "file_extension": ".py",
   "mimetype": "text/x-python",
   "name": "python",
   "nbconvert_exporter": "python",
   "pygments_lexer": "ipython3",
   "version": "3.11.7"
  }
 },
 "nbformat": 4,
 "nbformat_minor": 2
}
