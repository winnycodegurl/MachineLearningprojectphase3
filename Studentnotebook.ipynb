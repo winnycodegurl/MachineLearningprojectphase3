{
 "cells": [
  {
   "cell_type": "markdown",
   "metadata": {},
   "source": [
    "# Phase  3  project - Machine Learning!"
   ]
  },
  {
   "cell_type": "markdown",
   "metadata": {},
   "source": [
    "Name:  Winfred Kinya Bundi\n",
    "\n",
    "\n",
    "Course: Data Science - Machine learning projet Phase 3\n",
    "\n",
    "Team Leader: MaryAnn Mwikali\n",
    "\n"
   ]
  },
  {
   "cell_type": "markdown",
   "metadata": {},
   "source": []
  }
 ],
 "metadata": {
  "language_info": {
   "name": "python"
  }
 },
 "nbformat": 4,
 "nbformat_minor": 2
}
