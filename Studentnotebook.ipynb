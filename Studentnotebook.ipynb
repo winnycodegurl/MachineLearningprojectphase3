{
 "cells": [
  {
   "cell_type": "markdown",
   "metadata": {},
   "source": [
    "# Phase  3  project - Machine Learning!"
   ]
  },
  {
   "cell_type": "markdown",
   "metadata": {},
   "source": [
    "Name:  Winfred Kinya Bundi.\n",
    "\n",
    "\n",
    "Student pace:  Full time Hybrid.\n",
    "\n",
    "\n",
    "Scheduled project review date/time: 07/06/2024.\n",
    "\n",
    "\n",
    "Instructor name: Mwikali Maryanne.\n",
    "\n",
    "\n",
    "Blog post URL: git@github.com:winnycodegurl/MachineLearningprojectphase3.git\n",
    "\n"
   ]
  },
  {
   "cell_type": "markdown",
   "metadata": {},
   "source": []
  }
 ],
 "metadata": {
  "language_info": {
   "name": "python"
  }
 },
 "nbformat": 4,
 "nbformat_minor": 2
}
